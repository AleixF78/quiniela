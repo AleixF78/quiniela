{
 "cells": [
  {
   "cell_type": "markdown",
   "metadata": {},
   "source": [
    "### Import necessary libraries"
   ]
  },
  {
   "cell_type": "code",
   "execution_count": 2,
   "id": "7d2cff1c",
   "metadata": {},
   "outputs": [],
   "source": [
    "import numpy as np\n",
    "import sqlite3\n",
    "import pandas as pd\n",
    "import matplotlib.pyplot as plt\n",
    "import math\n",
    "from datetime import datetime\n",
    "from sklearn.model_selection import train_test_split"
   ]
  },
  {
   "cell_type": "markdown",
   "metadata": {},
   "source": [
    "### Read the original data"
   ]
  },
  {
   "cell_type": "code",
   "execution_count": 3,
   "id": "1805dbfd",
   "metadata": {},
   "outputs": [],
   "source": [
    "# Establish a connection to the SQLite database\n",
    "conn = sqlite3.connect(\"laliga.sqlite\")\n",
    "#Read into pandas dataframe \n",
    "df = pd.read_sql_query(\"SELECT * FROM Matches\", conn)\n",
    "pd.set_option('display.max_colwidth', None)"
   ]
  },
  {
   "cell_type": "markdown",
   "metadata": {},
   "source": [
    "## Create the necessary functions to modify the original df and get more relevant parametters"
   ]
  },
  {
   "cell_type": "code",
   "execution_count": 4,
   "id": "2888a21b",
   "metadata": {},
   "outputs": [],
   "source": [
    "#Creates a new columns with the result of the match\n",
    "def result_calculator(row):\n",
    "    if row['home_score'] > row['away_score']:\n",
    "        return 1\n",
    "    elif row['home_score'] < row['away_score']:\n",
    "        return 2\n",
    "    else:\n",
    "        return 'X'\n",
    "        \n",
    "def process_and_filter_data(input_df):    \n",
    "    \n",
    "    # Create a copy of the df, and erase the Nones\n",
    "    filtered_score_df = input_df[input_df['score'].notna()].copy()\n",
    "    \n",
    "    # Split the score to make it easier to read\n",
    "    split_scores = filtered_score_df['score'].str.split(':', expand=True).astype(int)\n",
    "    \n",
    "    # Assign the split scores to new columns\n",
    "    filtered_score_df['home_score'] = split_scores[0]\n",
    "    filtered_score_df['away_score'] = split_scores[1]\n",
    "    filtered_score_df['result'] = filtered_score_df.apply(result_calculator, axis=1)\n",
    "    return filtered_score_df    "
   ]
  },
  {
   "cell_type": "markdown",
   "id": "00cf513b",
   "metadata": {},
   "source": [
    "### Obtain set train and set test"
   ]
  },
  {
   "cell_type": "code",
   "execution_count": 5,
   "id": "544ba305",
   "metadata": {},
   "outputs": [],
   "source": [
    "def separate_train_test(input_df):\n",
    "    X = input_df.iloc[:, :-1] \n",
    "    y = input_df['result']\n",
    "    X_train, X_test, y_train, y_test = train_test_split(X, y, test_size=0.2, random_state=42)\n",
    "    return X_train, X_test, y_train, y_test"
   ]
  },
  {
   "cell_type": "markdown",
   "metadata": {},
   "source": [
    "### Separate by teams"
   ]
  },
  {
   "cell_type": "code",
   "execution_count": 6,
   "id": "c0bd6c04",
   "metadata": {},
   "outputs": [],
   "source": [
    "def separate_wins_loses_ties(df_filtered):\n",
    "    df_filtered['Win_local'] = np.where(df_filtered['home_score'] > df_filtered['away_score'], 1, 0)\n",
    "    df_filtered['Win_away'] = np.where(df_filtered['home_score'] < df_filtered['away_score'], 1, 0)\n",
    "    df_filtered['Ties'] = np.where(df_filtered['home_score'] == df_filtered['away_score'], 1, 0)\n",
    "    \n",
    "    # Combine home and away matches to identify all matches for each team\n",
    "    df_teams = pd.concat([df_filtered.rename(columns={'home_team': 'team', 'Win_local': 'Win','Win_away':'Lose', 'home_score' : 'GF', 'away_score': 'GA',}),\n",
    "                             df_filtered.rename(columns={'away_team': 'team', 'Win_away': 'Win','Win_local':'Lose', 'home_score' : 'GA', 'away_score': 'GF'})], ignore_index=True)\n",
    "    \n",
    "    return(df_teams)"
   ]
  },
  {
   "cell_type": "markdown",
   "id": "f478bd5d",
   "metadata": {},
   "source": [
    "### Get all information"
   ]
  },
  {
   "cell_type": "markdown",
   "metadata": {},
   "source": [
    "### Get previous relevant seasons (5 for example) "
   ]
  },
  {
   "cell_type": "code",
   "execution_count": 7,
   "id": "6c03cef7",
   "metadata": {},
   "outputs": [],
   "source": [
    "def split_season(df):\n",
    "    df[['date1', 'date2']] = df['season'].str.split('-', expand=True)\n",
    "    df['date1'] = df['date1'].astype(int)\n",
    "    df['date2'] = df['date2'].astype(int)\n",
    "    #df.drop('season', axis=1, inplace=True)\n",
    "    return df"
   ]
  },
  {
   "cell_type": "code",
   "execution_count": 8,
   "id": "1b78d420",
   "metadata": {},
   "outputs": [],
   "source": [
    "def process_df_previous_seasons(X_train):\n",
    "    df_all_summary = separate_wins_loses_ties(X_train) [['season','division','team','GF','GA','Win','Lose','Ties']]\n",
    "    df_all_summary = df_all_summary.groupby(['season','division','team'])[['GF', 'GA', 'Win', 'Lose', 'Ties']].sum().reset_index()\n",
    "    df_all_summary['Pts']=3*df_all_summary['Win'] + df_all_summary['Ties']\n",
    "    df_all_summary['GD'] = df_all_summary['GF'] - df_all_summary['GA']\n",
    "    df_all_summary = split_season(df_all_summary)\n",
    "    df_all_summary = df_all_summary[['season','division','team','Pts','GD','date1']]\n",
    "    return df_all_summary"
   ]
  },
  {
   "cell_type": "code",
   "execution_count": 9,
   "metadata": {},
   "outputs": [],
   "source": [
    "def process_df_current_season(X_train):\n",
    "    df_filtered = process_and_filter_data(X_train)\n",
    "\n",
    "\n",
    "    df_0 = separate_wins_loses_ties(df_filtered) [['season','division','team','GF','GA','Win','Lose','Ties','matchday']]\n",
    "    df_0 =df_0.sort_values(by=['season','division','matchday'], ascending=[False,True,True])\n",
    "\n",
    "    df_0['Last'] = df_0['Win']-df_0['Lose']\n",
    "    grouped = df_0.groupby(['season', 'division', 'team'])\n",
    "    df_0['GF'] = grouped['GF'].cumsum()\n",
    "    df_0['GA'] = grouped['GA'].cumsum()\n",
    "    df_0['Win'] = grouped['Win'].cumsum()\n",
    "    df_0['Lose'] = grouped['Lose'].cumsum()\n",
    "    df_0['Ties'] = grouped['Ties'].cumsum()\n",
    "\n",
    "\n",
    "    df_0['Pts']=3*df_0['Win']+df_0['Ties']\n",
    "    df_0['GD']=df_0['GF']-df_0['GA']\n",
    "    df_0 =df_0.sort_values(by=['season','division','matchday','Pts'], ascending=[False,True,False,False])\n",
    "    order=['season', 'division','team','GF','GA','GD','Win','Lose','Ties','Pts','matchday','Last']\n",
    "    df_0=df_0[order]\n",
    "    df_0 = df_0.reset_index()\n",
    "\n",
    "    df_0 = df_0.drop(columns=['index'])\n",
    "\n",
    "\n",
    "    for i in range(5):\n",
    "        df_0[f\"last_{i}\"] = df_0.groupby(['division','season' ,'team'])['Last'].shift(-i)\n",
    "\n",
    "\n",
    "\n",
    "\n",
    "    df_0[\"last_5\"] = df_0[[f\"last_{i}\" for i in range(5)]].agg(lambda x: [i for i in x if not pd.isna(i)],axis=1)\n",
    "\n",
    "    df_0 = df_0.drop(columns=['Last'])\n",
    "    for i in range(5):\n",
    "        df_0 = df_0.drop(columns=[f\"last_{i}\"])\n",
    "\n",
    "    df_0['Sum'] = df_0['last_5'].apply(sum)\n",
    "\n",
    "    df_0['GD']= df_0.groupby(['division','season' ,'team'])['GD'].shift(-1)\n",
    "    df_0['Pts']= df_0.groupby(['division','season' ,'team'])['Pts'].shift(-1)\n",
    "    df_0['Sum']= df_0.groupby(['division','season' ,'team'])['Sum'].shift(-1)\n",
    "    df_0['N'] = df_0['matchday'].apply(lambda x: 1 if x == 0 else 1)\n",
    "    df_0['GD'] = df_0['N'] * df_0['GD']\n",
    "    df_0['Pts'] = df_0['N'] * df_0['Pts']\n",
    "    df_0['Sum'] = df_0['N'] * df_0['Sum']\n",
    "    df_0.fillna(0, inplace=True)\n",
    "    df_0=df_0[['season','matchday','team','Pts','Sum','GD']]\n",
    "    return df_0"
   ]
  },
  {
   "cell_type": "code",
   "execution_count": 10,
   "id": "631ab629",
   "metadata": {},
   "outputs": [],
   "source": [
    "def cumsum_n(n):\n",
    "    return n * (n + 1) // 2\n",
    "\n",
    "def get_mean_parameter(df_all_summary, team, season, parameter, division):\n",
    "    season_format = int(season.split('-')[0])\n",
    "    team_info = df_all_summary[(df_all_summary['team'] == team) & (((season_format-5) <= df_all_summary['date1'])) & (season_format > df_all_summary['date1'])].reset_index()\n",
    "    \n",
    "    tam_df = team_info.shape[0]\n",
    "    \n",
    "    if tam_df == 0:\n",
    "        mean_parameter_team = df_all_summary[parameter].mean() # * 0.6\n",
    "    else:\n",
    "        team_info['parameter_pondered'] = team_info[parameter] * (team_info.index + 1)\n",
    "        mean_parameter_team = team_info['parameter_pondered'].sum() / cumsum_n(tam_df)\n",
    "    \n",
    "    if division == 2 and parameter == 'Pts':\n",
    "        mean_parameter_team -= df_all_summary[parameter].mean() * 2\n",
    "    \n",
    "    return mean_parameter_team\n",
    "\n",
    "def get_teams_last_mean_dif_p(row_original, df_all_summary, parameters):\n",
    "    row = row_original.copy()\n",
    "    home_team = row['home_team']\n",
    "    away_team = row['away_team']\n",
    "    season = row['season']\n",
    "    division = row['division']\n",
    "\n",
    "    for parameter in parameters:\n",
    "        home_mean = get_mean_parameter(df_all_summary, home_team, season, parameter, division)\n",
    "        away_mean = get_mean_parameter(df_all_summary, away_team, season, parameter, division)\n",
    "        \n",
    "        row[f'{parameter}_mean_home'] = home_mean\n",
    "        row[f'{parameter}_mean_away'] = away_mean\n",
    "        row[f'dif_{parameter}_mean'] = home_mean - away_mean\n",
    "\n",
    "    return row\n",
    "\n"
   ]
  },
  {
   "cell_type": "markdown",
   "id": "fb83562b",
   "metadata": {},
   "source": [
    "### Get parameters from the same season"
   ]
  },
  {
   "cell_type": "code",
   "execution_count": 11,
   "metadata": {},
   "outputs": [],
   "source": [
    "def get_matchday_info(row_original, df_0):\n",
    "    row = row_original.copy()\n",
    "    home_team = row['home_team']\n",
    "    away_team = row['away_team']\n",
    "    season = row['season']\n",
    "    matchday = row['matchday']\n",
    "\n",
    "    \n",
    "    df_0_matchday = df_0[(df_0['season'] == season) & (df_0['matchday'] == matchday)]\n",
    "    \n",
    "    home_info = df_0_matchday[df_0_matchday['team'] == home_team].iloc[0]\n",
    "    away_info = df_0_matchday[df_0_matchday['team'] == away_team].iloc[0]\n",
    "\n",
    "    row['yet_pts_dif'] = home_info['Pts'] - away_info['Pts']\n",
    "    row['yet_sum5_dif'] = home_info['Sum'] - away_info['Sum']\n",
    "    row['yet_GD_dif'] = home_info['GD'] - away_info['GD']\n",
    "\n",
    "    return row\n"
   ]
  },
  {
   "cell_type": "markdown",
   "metadata": {},
   "source": [
    "## Apply everything"
   ]
  },
  {
   "cell_type": "code",
   "execution_count": 12,
   "metadata": {},
   "outputs": [],
   "source": [
    "df_1 = process_and_filter_data(df)\n",
    "X_train, X_test, y_train, y_test = separate_train_test(df_1)\n",
    "df_previous = process_df_previous_seasons(df_1)\n",
    "df_current = process_df_current_season(df_1)\n"
   ]
  },
  {
   "cell_type": "code",
   "execution_count": 13,
   "id": "c06e660f",
   "metadata": {},
   "outputs": [],
   "source": [
    "parameters_to_calculate = ['Pts', 'GD']\n",
    "def process_X(X_train):\n",
    "    clean_X_train = X_train[['season','division','matchday','home_team','away_team']]\n",
    "    X_process_train = clean_X_train.apply(lambda row: get_teams_last_mean_dif_p(row, df_previous, parameters_to_calculate), axis=1)\n",
    "    X_process_train = X_process_train.apply(lambda row: get_matchday_info(row, df_current), axis=1)\n",
    "    X_process_train = X_process_train[['dif_GD_mean','dif_Pts_mean','yet_GD_dif','yet_pts_dif','yet_sum5_dif']]\n",
    "    return X_process_train"
   ]
  },
  {
   "cell_type": "code",
   "execution_count": 14,
   "metadata": {},
   "outputs": [],
   "source": [
    "X_process_train = process_X(X_train)"
   ]
  },
  {
   "cell_type": "code",
   "execution_count": 15,
   "metadata": {},
   "outputs": [],
   "source": [
    "X_process_test = process_X(X_test)"
   ]
  },
  {
   "cell_type": "code",
   "execution_count": 16,
   "id": "4b1a91ae",
   "metadata": {},
   "outputs": [],
   "source": [
    "y_train_str = y_train.astype(str)\n",
    "y_test_str = y_test.astype(str)"
   ]
  },
  {
   "cell_type": "code",
   "execution_count": 17,
   "id": "2ded63ff",
   "metadata": {},
   "outputs": [
    {
     "data": {
      "text/html": [
       "<style>#sk-container-id-1 {color: black;}#sk-container-id-1 pre{padding: 0;}#sk-container-id-1 div.sk-toggleable {background-color: white;}#sk-container-id-1 label.sk-toggleable__label {cursor: pointer;display: block;width: 100%;margin-bottom: 0;padding: 0.3em;box-sizing: border-box;text-align: center;}#sk-container-id-1 label.sk-toggleable__label-arrow:before {content: \"▸\";float: left;margin-right: 0.25em;color: #696969;}#sk-container-id-1 label.sk-toggleable__label-arrow:hover:before {color: black;}#sk-container-id-1 div.sk-estimator:hover label.sk-toggleable__label-arrow:before {color: black;}#sk-container-id-1 div.sk-toggleable__content {max-height: 0;max-width: 0;overflow: hidden;text-align: left;background-color: #f0f8ff;}#sk-container-id-1 div.sk-toggleable__content pre {margin: 0.2em;color: black;border-radius: 0.25em;background-color: #f0f8ff;}#sk-container-id-1 input.sk-toggleable__control:checked~div.sk-toggleable__content {max-height: 200px;max-width: 100%;overflow: auto;}#sk-container-id-1 input.sk-toggleable__control:checked~label.sk-toggleable__label-arrow:before {content: \"▾\";}#sk-container-id-1 div.sk-estimator input.sk-toggleable__control:checked~label.sk-toggleable__label {background-color: #d4ebff;}#sk-container-id-1 div.sk-label input.sk-toggleable__control:checked~label.sk-toggleable__label {background-color: #d4ebff;}#sk-container-id-1 input.sk-hidden--visually {border: 0;clip: rect(1px 1px 1px 1px);clip: rect(1px, 1px, 1px, 1px);height: 1px;margin: -1px;overflow: hidden;padding: 0;position: absolute;width: 1px;}#sk-container-id-1 div.sk-estimator {font-family: monospace;background-color: #f0f8ff;border: 1px dotted black;border-radius: 0.25em;box-sizing: border-box;margin-bottom: 0.5em;}#sk-container-id-1 div.sk-estimator:hover {background-color: #d4ebff;}#sk-container-id-1 div.sk-parallel-item::after {content: \"\";width: 100%;border-bottom: 1px solid gray;flex-grow: 1;}#sk-container-id-1 div.sk-label:hover label.sk-toggleable__label {background-color: #d4ebff;}#sk-container-id-1 div.sk-serial::before {content: \"\";position: absolute;border-left: 1px solid gray;box-sizing: border-box;top: 0;bottom: 0;left: 50%;z-index: 0;}#sk-container-id-1 div.sk-serial {display: flex;flex-direction: column;align-items: center;background-color: white;padding-right: 0.2em;padding-left: 0.2em;position: relative;}#sk-container-id-1 div.sk-item {position: relative;z-index: 1;}#sk-container-id-1 div.sk-parallel {display: flex;align-items: stretch;justify-content: center;background-color: white;position: relative;}#sk-container-id-1 div.sk-item::before, #sk-container-id-1 div.sk-parallel-item::before {content: \"\";position: absolute;border-left: 1px solid gray;box-sizing: border-box;top: 0;bottom: 0;left: 50%;z-index: -1;}#sk-container-id-1 div.sk-parallel-item {display: flex;flex-direction: column;z-index: 1;position: relative;background-color: white;}#sk-container-id-1 div.sk-parallel-item:first-child::after {align-self: flex-end;width: 50%;}#sk-container-id-1 div.sk-parallel-item:last-child::after {align-self: flex-start;width: 50%;}#sk-container-id-1 div.sk-parallel-item:only-child::after {width: 0;}#sk-container-id-1 div.sk-dashed-wrapped {border: 1px dashed gray;margin: 0 0.4em 0.5em 0.4em;box-sizing: border-box;padding-bottom: 0.4em;background-color: white;}#sk-container-id-1 div.sk-label label {font-family: monospace;font-weight: bold;display: inline-block;line-height: 1.2em;}#sk-container-id-1 div.sk-label-container {text-align: center;}#sk-container-id-1 div.sk-container {/* jupyter's `normalize.less` sets `[hidden] { display: none; }` but bootstrap.min.css set `[hidden] { display: none !important; }` so we also need the `!important` here to be able to override the default hidden behavior on the sphinx rendered scikit-learn.org. See: https://github.com/scikit-learn/scikit-learn/issues/21755 */display: inline-block !important;position: relative;}#sk-container-id-1 div.sk-text-repr-fallback {display: none;}</style><div id=\"sk-container-id-1\" class=\"sk-top-container\"><div class=\"sk-text-repr-fallback\"><pre>GradientBoostingClassifier(random_state=42)</pre><b>In a Jupyter environment, please rerun this cell to show the HTML representation or trust the notebook. <br />On GitHub, the HTML representation is unable to render, please try loading this page with nbviewer.org.</b></div><div class=\"sk-container\" hidden><div class=\"sk-item\"><div class=\"sk-estimator sk-toggleable\"><input class=\"sk-toggleable__control sk-hidden--visually\" id=\"sk-estimator-id-1\" type=\"checkbox\" checked><label for=\"sk-estimator-id-1\" class=\"sk-toggleable__label sk-toggleable__label-arrow\">GradientBoostingClassifier</label><div class=\"sk-toggleable__content\"><pre>GradientBoostingClassifier(random_state=42)</pre></div></div></div></div></div>"
      ],
      "text/plain": [
       "GradientBoostingClassifier(random_state=42)"
      ]
     },
     "execution_count": 17,
     "metadata": {},
     "output_type": "execute_result"
    }
   ],
   "source": [
    "from sklearn.naive_bayes import GaussianNB\n",
    "from sklearn.ensemble import RandomForestClassifier\n",
    "from sklearn.ensemble import GradientBoostingClassifier\n",
    "\n",
    "dict_weights = {\"1\":0.3, \"2\": 2, \"X\": 2}\n",
    "\n",
    "model = RandomForestClassifier(class_weight=dict_weights, n_estimators=100, max_depth=None)\n",
    "model2 = GradientBoostingClassifier( n_estimators=100, max_depth=3, random_state=42)\n",
    "clf_NB = GaussianNB()\n",
    "clf_NB.fit(X_process_train, y_train_str)\n",
    "model.fit(X_process_train, y_train_str)\n",
    "model2.fit(X_process_train, y_train_str)"
   ]
  },
  {
   "cell_type": "code",
   "execution_count": 18,
   "id": "991e7789",
   "metadata": {},
   "outputs": [],
   "source": [
    "y_pred = clf_NB.predict(X_process_test)\n",
    "y_pred_2 = model.predict(X_process_test)\n",
    "y_pred_3 = model2.predict(X_process_test)"
   ]
  },
  {
   "cell_type": "code",
   "execution_count": 19,
   "id": "83596687",
   "metadata": {},
   "outputs": [
    {
     "data": {
      "image/png": "[encoded data removed]",
      "text/plain": [
       "<Figure size 640x480 with 2 Axes>"
      ]
     },
     "metadata": {},
     "output_type": "display_data"
    }
   ],
   "source": [
    "from sklearn.metrics import ConfusionMatrixDisplay\n",
    "from sklearn.metrics import confusion_matrix\n",
    "cm = confusion_matrix(y_true=y_test_str, y_pred=y_pred)\n",
    "cm_display = ConfusionMatrixDisplay(cm).plot()"
   ]
  },
  {
   "cell_type": "code",
   "execution_count": 20,
   "id": "7d3bda05",
   "metadata": {},
   "outputs": [
    {
     "name": "stdout",
     "output_type": "stream",
     "text": [
      "Exactitud - Accuracy: 0.498\n",
      "Precision: 0.498\n",
      "Sensibilidad - Recall: 0.498\n",
      "F1: 0.498\n"
     ]
    }
   ],
   "source": [
    "from sklearn.metrics import accuracy_score\n",
    "from sklearn.metrics import precision_score\n",
    "from sklearn.metrics import recall_score, f1_score\n",
    "print('Exactitud - Accuracy: %.3f' % accuracy_score(y_true=y_test_str, y_pred=y_pred))\n",
    "print('Precision: %.3f' % precision_score(y_true=y_test_str, y_pred=y_pred, average='micro'))\n",
    "print('Sensibilidad - Recall: %.3f' % recall_score(y_true=y_test_str, y_pred=y_pred, average='micro'))\n",
    "print('F1: %.3f' % f1_score(y_true=y_test_str, y_pred=y_pred, average='micro'))"
   ]
  },
  {
   "cell_type": "code",
   "execution_count": 21,
   "id": "89a78b60",
   "metadata": {},
   "outputs": [
    {
     "data": {
      "image/png": "[encoded data removed]",
      "text/plain": [
       "<Figure size 640x480 with 2 Axes>"
      ]
     },
     "metadata": {},
     "output_type": "display_data"
    }
   ],
   "source": [
    "from sklearn.metrics import ConfusionMatrixDisplay\n",
    "from sklearn.metrics import confusion_matrix\n",
    "cm = confusion_matrix(y_true=y_test_str, y_pred=y_pred_2)\n",
    "cm_display = ConfusionMatrixDisplay(cm).plot()\n",
    "np.savetxt('matriztr.csv', X_process_train, delimiter=',', fmt='%d')\n",
    "np.savetxt('matrizte.csv', X_process_test, delimiter=',', fmt='%d')\n"
   ]
  },
  {
   "cell_type": "code",
   "execution_count": 22,
   "id": "608b8284",
   "metadata": {},
   "outputs": [
    {
     "name": "stdout",
     "output_type": "stream",
     "text": [
      "Exactitud - Accuracy: 0.494\n",
      "Precision: 0.494\n",
      "Sensibilidad - Recall: 0.494\n",
      "F1: 0.494\n"
     ]
    }
   ],
   "source": [
    "from sklearn.metrics import accuracy_score\n",
    "from sklearn.metrics import precision_score\n",
    "from sklearn.metrics import recall_score, f1_score\n",
    "print('Exactitud - Accuracy: %.3f' % accuracy_score(y_true=y_test_str, y_pred=y_pred_2))\n",
    "print('Precision: %.3f' % precision_score(y_true=y_test_str, y_pred=y_pred_2, average='micro'))\n",
    "print('Sensibilidad - Recall: %.3f' % recall_score(y_true=y_test_str, y_pred=y_pred_2, average='micro'))\n",
    "print('F1: %.3f' % f1_score(y_true=y_test_str, y_pred=y_pred_2, average='micro'))"
   ]
  },
  {
   "cell_type": "code",
   "execution_count": 23,
   "id": "397121ad",
   "metadata": {},
   "outputs": [
    {
     "data": {
      "image/png": "[encoded data removed]",
      "text/plain": [
       "<Figure size 640x480 with 2 Axes>"
      ]
     },
     "metadata": {},
     "output_type": "display_data"
    }
   ],
   "source": [
    "from sklearn.metrics import ConfusionMatrixDisplay\n",
    "from sklearn.metrics import confusion_matrix\n",
    "cm = confusion_matrix(y_true=y_test_str, y_pred=y_pred_3)\n",
    "cm_display = ConfusionMatrixDisplay(cm).plot()"
   ]
  },
  {
   "cell_type": "code",
   "execution_count": 24,
   "id": "2ad7d8dd",
   "metadata": {},
   "outputs": [
    {
     "name": "stdout",
     "output_type": "stream",
     "text": [
      "Exactitud - Accuracy: 0.536\n"
     ]
    },
    {
     "name": "stdout",
     "output_type": "stream",
     "text": [
      "Precision: 0.536\n",
      "Sensibilidad - Recall: 0.536\n",
      "F1: 0.536\n"
     ]
    }
   ],
   "source": [
    "from sklearn.metrics import accuracy_score\n",
    "from sklearn.metrics import precision_score\n",
    "from sklearn.metrics import recall_score, f1_score\n",
    "print('Exactitud - Accuracy: %.3f' % accuracy_score(y_true=y_test_str, y_pred=y_pred_3))\n",
    "print('Precision: %.3f' % precision_score(y_true=y_test_str, y_pred=y_pred_3, average='micro'))\n",
    "print('Sensibilidad - Recall: %.3f' % recall_score(y_true=y_test_str, y_pred=y_pred_3, average='micro'))\n",
    "print('F1: %.3f' % f1_score(y_true=y_test_str, y_pred=y_pred_3, average='micro'))"
   ]
  },
  {
   "cell_type": "code",
   "execution_count": 25,
   "metadata": {},
   "outputs": [
    {
     "data": {
      "text/plain": [
       "['model.pkl']"
      ]
     },
     "execution_count": 25,
     "metadata": {},
     "output_type": "execute_result"
    }
   ],
   "source": [
    "import joblib\n",
    "\n",
    "# Ruta donde deseas guardar el modelo\n",
    "ruta_modelo = 'model.pkl'\n",
    "\n",
    "# Guardar el modelo\n",
    "joblib.dump(clf_NB, ruta_modelo)"
   ]
  }
 ],
 "metadata": {
  "kernelspec": {
   "display_name": "Python 3 (ipykernel)",
   "language": "python",
   "name": "python3"
  },
  "language_info": {
   "codemirror_mode": {
    "name": "ipython",
    "version": 3
   },
   "file_extension": ".py",
   "mimetype": "text/x-python",
   "name": "python",
   "nbconvert_exporter": "python",
   "pygments_lexer": "ipython3",
   "version": "3.10.12"
  }
 },
 "nbformat": 4,
 "nbformat_minor": 5
}
