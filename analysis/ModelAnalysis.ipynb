{
 "cells": [
  {
   "cell_type": "markdown",
   "id": "dd7ba512",
   "metadata": {},
   "source": [
    "# ModelAnalysis"
   ]
  },
  {
   "cell_type": "markdown",
   "id": "add30e99",
   "metadata": {},
   "source": [
    "#### Jupyter notebook with all the functions and the implementation of the Sklearn model"
   ]
  },
  {
   "cell_type": "markdown",
   "id": "89e94eb9",
   "metadata": {},
   "source": [
    "### Import necessary libraries"
   ]
  },
  {
   "cell_type": "code",
   "execution_count": 1,
   "id": "7d2cff1c",
   "metadata": {},
   "outputs": [],
   "source": [
    "import numpy as np\n",
    "import sqlite3\n",
    "import pandas as pd\n",
    "import matplotlib.pyplot as plt\n",
    "import math\n",
    "from datetime import datetime\n",
    "from sklearn.model_selection import train_test_split\n",
    "import os"
   ]
  },
  {
   "cell_type": "markdown",
   "id": "8879bc30",
   "metadata": {},
   "source": [
    "# 1. Read the original data"
   ]
  },
  {
   "cell_type": "code",
   "execution_count": 2,
   "id": "1805dbfd",
   "metadata": {},
   "outputs": [],
   "source": [
    "# Establish a connection to the SQLite database\n",
    "conn = sqlite3.connect(os.path.join('..', 'laliga.sqlite'))\n",
    "#Read into pandas dataframe \n",
    "df = pd.read_sql_query(\"SELECT * FROM Matches\", conn)\n",
    "pd.set_option('display.max_colwidth', None)"
   ]
  },
  {
   "cell_type": "markdown",
   "id": "fdd4995a",
   "metadata": {},
   "source": [
    "# 2. Create the necessary functions to modify the original df and get more relevant parametters"
   ]
  },
  {
   "cell_type": "markdown",
   "id": "02c809ff",
   "metadata": {},
   "source": [
    "### Process the raw data"
   ]
  },
  {
   "cell_type": "code",
   "execution_count": 3,
   "id": "2888a21b",
   "metadata": {},
   "outputs": [],
   "source": [
    "# Creates a new columns with the result of the match\n",
    "def result_calculator(row):\n",
    "    if row['home_score'] > row['away_score']:\n",
    "        return 1\n",
    "    elif row['home_score'] < row['away_score']:\n",
    "        return 2\n",
    "    else:\n",
    "        return 'X'\n",
    "\n",
    "# Eliminate non relevant rows and make some adjusts\n",
    "def process_and_filter_data(input_df):    \n",
    "    \n",
    "    # Create a copy of the df, and erase the Nones\n",
    "    filtered_score_df = input_df[input_df['score'].notna()].copy()\n",
    "    \n",
    "    # Split the score to make it easier to read\n",
    "    split_scores = filtered_score_df['score'].str.split(':', expand=True).astype(int)\n",
    "    \n",
    "    # Assign the split scores to new columns\n",
    "    filtered_score_df['home_score'] = split_scores[0]\n",
    "    filtered_score_df['away_score'] = split_scores[1]\n",
    "    filtered_score_df['result'] = filtered_score_df.apply(result_calculator, axis=1)\n",
    "    return filtered_score_df    "
   ]
  },
  {
   "cell_type": "markdown",
   "id": "bbef28cb",
   "metadata": {},
   "source": [
    "### Separate information by teams"
   ]
  },
  {
   "cell_type": "code",
   "execution_count": 4,
   "id": "c0bd6c04",
   "metadata": {},
   "outputs": [],
   "source": [
    "# Get the results of the matches for each team\n",
    "def separate_wins_loses_ties(df_filtered):\n",
    "    # Build three columns, one for each possible result\n",
    "    df_filtered['Win_local'] = np.where(df_filtered['home_score'] > df_filtered['away_score'], 1, 0)\n",
    "    df_filtered['Win_away'] = np.where(df_filtered['home_score'] < df_filtered['away_score'], 1, 0)\n",
    "    df_filtered['Ties'] = np.where(df_filtered['home_score'] == df_filtered['away_score'], 1, 0)\n",
    "    \n",
    "    # Combine home and away matches to identify all matches for each team\n",
    "    df_teams = pd.concat([df_filtered.rename(columns={'home_team': 'team', 'Win_local': 'Win','Win_away':'Lose', 'home_score' : 'GF', 'away_score': 'GA',}),\n",
    "                             df_filtered.rename(columns={'away_team': 'team', 'Win_away': 'Win','Win_local':'Lose', 'home_score' : 'GA', 'away_score': 'GF'})], ignore_index=True)\n",
    "    \n",
    "    return(df_teams)"
   ]
  },
  {
   "cell_type": "markdown",
   "id": "f478bd5d",
   "metadata": {},
   "source": [
    "### 2.1. Get all information from the previous relevant seasons"
   ]
  },
  {
   "cell_type": "code",
   "execution_count": 5,
   "id": "6c03cef7",
   "metadata": {},
   "outputs": [],
   "source": [
    "# Split the season into 2 new columns, one for each year\n",
    "def split_season(df):\n",
    "    df[['date1', 'date2']] = df['season'].str.split('-', expand=True)\n",
    "    df['date1'] = df['date1'].astype(int)\n",
    "    df['date2'] = df['date2'].astype(int)\n",
    "    #df.drop('season', axis=1, inplace=True)\n",
    "    return df"
   ]
  },
  {
   "cell_type": "code",
   "execution_count": 6,
   "id": "1b78d420",
   "metadata": {},
   "outputs": [],
   "source": [
    "# Get a dataframe with the summary information of previous seasons\n",
    "def process_df_previous_seasons(X_train):\n",
    "    df_all_summary = separate_wins_loses_ties(X_train) [['season','division','team','GF','GA','Win','Lose','Ties']]\n",
    "    df_all_summary = df_all_summary.groupby(['season','division','team'])[['GF', 'GA', 'Win', 'Lose', 'Ties']].sum().reset_index()\n",
    "    df_all_summary['Pts']=3*df_all_summary['Win'] + df_all_summary['Ties']\n",
    "    df_all_summary['GD'] = df_all_summary['GF'] - df_all_summary['GA']\n",
    "    df_all_summary = split_season(df_all_summary)\n",
    "    df_all_summary = df_all_summary[['season','division','team','Pts','GD','date1']]\n",
    "    return df_all_summary"
   ]
  },
  {
   "cell_type": "code",
   "execution_count": 7,
   "id": "631ab629",
   "metadata": {},
   "outputs": [],
   "source": [
    "# Function that gives the cumulative sum up to number n, used in the ponderation of the seasons result\n",
    "def cumsum_n(n):\n",
    "    return n * (n + 1) // 2\n",
    "\n",
    "def get_mean_parameter(df_all_summary, team, season, parameter, division):\n",
    "    # Get information from the previous seasons\n",
    "    season_format = int(season.split('-')[0])\n",
    "    team_info = df_all_summary[(df_all_summary['team'] == team) & (((season_format-5) <= df_all_summary['date1'])) & (season_format > df_all_summary['date1'])].reset_index()\n",
    "    \n",
    "    # If there is no previous information, assume the mean. It could be ponderated\n",
    "    tam_df = team_info.shape[0]\n",
    "    if tam_df == 0:\n",
    "        mean_parameter_team = df_all_summary[parameter].mean() \n",
    "    else:\n",
    "        team_info['parameter_pondered'] = team_info[parameter] * (team_info.index + 1)\n",
    "        mean_parameter_team = team_info['parameter_pondered'].sum() / cumsum_n(tam_df)\n",
    "    \n",
    "    # REVISAR, lo metería en el pondered según la liga. Liga 1 vale el dobel\n",
    "    if division == 2 and parameter == 'Pts':\n",
    "        mean_parameter_team -= df_all_summary[parameter].mean() * 2\n",
    "    \n",
    "    return mean_parameter_team\n",
    "\n",
    "def get_teams_last_mean_dif_p(row_original, df_all_summary, parameters):\n",
    "    # Get info from the row\n",
    "    row = row_original.copy()\n",
    "    home_team = row['home_team']\n",
    "    away_team = row['away_team']\n",
    "    season = row['season']\n",
    "    division = row['division']\n",
    "\n",
    "    # Calculate the difference between teams of each parameter\n",
    "    for parameter in parameters:\n",
    "        home_mean = get_mean_parameter(df_all_summary, home_team, season, parameter, division)\n",
    "        away_mean = get_mean_parameter(df_all_summary, away_team, season, parameter, division)\n",
    "        \n",
    "        row[f'{parameter}_mean_home'] = home_mean\n",
    "        row[f'{parameter}_mean_away'] = away_mean\n",
    "        row[f'dif_{parameter}_mean'] = home_mean - away_mean\n",
    "\n",
    "    return row"
   ]
  },
  {
   "cell_type": "markdown",
   "id": "fb83562b",
   "metadata": {},
   "source": [
    "### 2.2. Get parameters from the same season"
   ]
  },
  {
   "cell_type": "code",
   "execution_count": 8,
   "id": "729ed05a",
   "metadata": {},
   "outputs": [],
   "source": [
    "def process_df_current_season(X_train):\n",
    "    # Process raw data and sort it by season, division and mathcday\n",
    "    df_filtered = process_and_filter_data(X_train)\n",
    "    df_current_season = separate_wins_loses_ties(df_filtered) [['season','division','team','GF','GA','Win','Lose','Ties','matchday']]\n",
    "    df_current_season = df_current_season.sort_values(by = ['season','division','matchday'], ascending = [False,True,True])\n",
    "    \n",
    "    # Calculate if there is a win, a lose or a tie\n",
    "    df_current_season['Last'] = df_current_season['Win'] - df_current_season['Lose']\n",
    "    \n",
    "    # Calculate the cumsum of each of the features\n",
    "    grouped = df_current_season.groupby(['season', 'division', 'team'])\n",
    "    features = ['GF','GA','Win','Lose','Ties']\n",
    "    for feature in features:\n",
    "        df_current_season[feature] = grouped[feature].cumsum()\n",
    "\n",
    "    #Calculate derivated features\n",
    "    df_current_season['Pts'] = 3 * df_current_season['Win'] + df_current_season['Ties']\n",
    "    df_current_season['GD'] = df_current_season['GF'] - df_current_season['GA']\n",
    "    \n",
    "    # Sort the data\n",
    "    df_current_season = df_current_season.sort_values(by = ['season','division','matchday','Pts'], ascending=[False,True,False,False])\n",
    "\n",
    "    # Calculate the result of the last 5 matches and the sum of this 5 matches\n",
    "    for i in range(5):\n",
    "        df_current_season[f\"last_{i}\"] = df_current_season.groupby(['division','season' ,'team'])['Last'].shift(-i)\n",
    "        \n",
    "    df_current_season[\"last_5\"] = df_current_season[[f\"last_{i}\" for i in range(5)]].agg(lambda x: [i for i in x if not pd.isna(i)],axis=1)\n",
    "    df_current_season['Sum'] = df_current_season['last_5'].apply(sum)\n",
    "\n",
    "    # ATENCIÓN: No se que hace\n",
    "    features=['GD','Pts','Sum']\n",
    "    for feature in features:\n",
    "        df_current_season[feature]= df_current_season.groupby(['division','season' ,'team'])[feature].shift(-1)\n",
    "\n",
    "    # Null the rest of the information\n",
    "    df_current_season['N'] = df_current_season['matchday'].apply(lambda x: 1 if x == 0 else 1)\n",
    "    for feature in features: \n",
    "        df_current_season[feature] = df_current_season['N'] * df_current_season[feature]\n",
    "\n",
    "    # Get the final dataframe\n",
    "    df_current_season.fillna(0, inplace=True)\n",
    "    df_current_season = df_current_season[['season','matchday','team','Pts','Sum','GD']]\n",
    "    return df_current_season"
   ]
  },
  {
   "cell_type": "code",
   "execution_count": 9,
   "id": "adf4594f",
   "metadata": {},
   "outputs": [],
   "source": [
    "def get_matchday_info(row_original, df_all):\n",
    "    # Get info from the row\n",
    "    row = row_original.copy()\n",
    "    home_team = row['home_team']\n",
    "    away_team = row['away_team']\n",
    "    season = row['season']\n",
    "    matchday = row['matchday']\n",
    "\n",
    "    # Filter by season and matchday\n",
    "    df_all_matchday = df_all[(df_all['season'] == season) & (df_all['matchday'] == matchday)]\n",
    "    \n",
    "    # Get info for each team\n",
    "    home_info = df_all_matchday[df_all_matchday['team'] == home_team].iloc[0]\n",
    "    away_info = df_all_matchday[df_all_matchday['team'] == away_team].iloc[0]\n",
    "\n",
    "    # Get the features\n",
    "    row['yet_pts_dif'] = home_info['Pts'] - away_info['Pts']\n",
    "    row['yet_sum5_dif'] = home_info['Sum'] - away_info['Sum']\n",
    "    row['yet_GD_dif'] = home_info['GD'] - away_info['GD']\n",
    "\n",
    "    return row"
   ]
  },
  {
   "cell_type": "markdown",
   "id": "00cf513b",
   "metadata": {},
   "source": [
    "# 3. Process the data for the model"
   ]
  },
  {
   "cell_type": "code",
   "execution_count": 10,
   "id": "544ba305",
   "metadata": {},
   "outputs": [],
   "source": [
    "# Separate the sets for training and test the model\n",
    "def separate_train_test(input_df):\n",
    "    X = input_df.iloc[:, :-1] \n",
    "    y = input_df['result']\n",
    "    X_train, X_test, y_train, y_test = train_test_split(X, y, test_size=0.2, random_state=42)\n",
    "    return X_train, X_test, y_train, y_test"
   ]
  },
  {
   "cell_type": "code",
   "execution_count": 11,
   "id": "c06e660f",
   "metadata": {},
   "outputs": [],
   "source": [
    "parameters_to_calculate = ['Pts', 'GD']\n",
    "def process_X(X_train):\n",
    "    clean_X_train = X_train[['season','division','matchday','home_team','away_team']]\n",
    "    X_process_train = clean_X_train.apply(lambda row: get_teams_last_mean_dif_p(row, df_previous, parameters_to_calculate), axis=1)\n",
    "    X_process_train = X_process_train.apply(lambda row: get_matchday_info(row, df_current), axis=1)\n",
    "    X_process_train = X_process_train[['dif_GD_mean','dif_Pts_mean','yet_GD_dif','yet_pts_dif','yet_sum5_dif']]\n",
    "    return X_process_train"
   ]
  },
  {
   "cell_type": "code",
   "execution_count": 12,
   "id": "26174354",
   "metadata": {},
   "outputs": [],
   "source": [
    "df_aux = process_and_filter_data(df)\n",
    "X_train, X_test, y_train, y_test = separate_train_test(df_aux)\n",
    "df_previous = process_df_previous_seasons(df_aux)\n",
    "df_current = process_df_current_season(df_aux)"
   ]
  },
  {
   "cell_type": "code",
   "execution_count": 13,
   "id": "eb092a43",
   "metadata": {},
   "outputs": [],
   "source": [
    "X_process_train = process_X(X_train)"
   ]
  },
  {
   "cell_type": "code",
   "execution_count": 14,
   "id": "7f114240",
   "metadata": {},
   "outputs": [],
   "source": [
    "X_process_test = process_X(X_test)"
   ]
  },
  {
   "cell_type": "code",
   "execution_count": 15,
   "id": "4b1a91ae",
   "metadata": {},
   "outputs": [],
   "source": [
    "y_train_str = y_train.astype(str)\n",
    "y_test_str = y_test.astype(str)"
   ]
  },
  {
   "cell_type": "markdown",
   "id": "cbc29127",
   "metadata": {},
   "source": [
    "## 4. Model construction"
   ]
  },
  {
   "cell_type": "markdown",
   "id": "ca18e083",
   "metadata": {},
   "source": [
    "For building the model three different classifiers have been used: Gaussian Naïve Bayes, Random Forest and Gradient Boosting. Each classifier has its advantages and disadvantages, and the choice between them depends on the specific problem and dataset characteristics. It is common to try out various algorithms and compare their results before selecting the final model for implementation.\n",
    "\n",
    "Since the class \"1\" is more represented than the orther, Random Forest and Gradient Boosting are good candidates, but they would be evaluated and compared with GaussianNB."
   ]
  },
  {
   "cell_type": "code",
   "execution_count": 16,
   "id": "2ded63ff",
   "metadata": {},
   "outputs": [
    {
     "data": {
      "text/html": [
       "<style>#sk-container-id-1 {color: black;}#sk-container-id-1 pre{padding: 0;}#sk-container-id-1 div.sk-toggleable {background-color: white;}#sk-container-id-1 label.sk-toggleable__label {cursor: pointer;display: block;width: 100%;margin-bottom: 0;padding: 0.3em;box-sizing: border-box;text-align: center;}#sk-container-id-1 label.sk-toggleable__label-arrow:before {content: \"▸\";float: left;margin-right: 0.25em;color: #696969;}#sk-container-id-1 label.sk-toggleable__label-arrow:hover:before {color: black;}#sk-container-id-1 div.sk-estimator:hover label.sk-toggleable__label-arrow:before {color: black;}#sk-container-id-1 div.sk-toggleable__content {max-height: 0;max-width: 0;overflow: hidden;text-align: left;background-color: #f0f8ff;}#sk-container-id-1 div.sk-toggleable__content pre {margin: 0.2em;color: black;border-radius: 0.25em;background-color: #f0f8ff;}#sk-container-id-1 input.sk-toggleable__control:checked~div.sk-toggleable__content {max-height: 200px;max-width: 100%;overflow: auto;}#sk-container-id-1 input.sk-toggleable__control:checked~label.sk-toggleable__label-arrow:before {content: \"▾\";}#sk-container-id-1 div.sk-estimator input.sk-toggleable__control:checked~label.sk-toggleable__label {background-color: #d4ebff;}#sk-container-id-1 div.sk-label input.sk-toggleable__control:checked~label.sk-toggleable__label {background-color: #d4ebff;}#sk-container-id-1 input.sk-hidden--visually {border: 0;clip: rect(1px 1px 1px 1px);clip: rect(1px, 1px, 1px, 1px);height: 1px;margin: -1px;overflow: hidden;padding: 0;position: absolute;width: 1px;}#sk-container-id-1 div.sk-estimator {font-family: monospace;background-color: #f0f8ff;border: 1px dotted black;border-radius: 0.25em;box-sizing: border-box;margin-bottom: 0.5em;}#sk-container-id-1 div.sk-estimator:hover {background-color: #d4ebff;}#sk-container-id-1 div.sk-parallel-item::after {content: \"\";width: 100%;border-bottom: 1px solid gray;flex-grow: 1;}#sk-container-id-1 div.sk-label:hover label.sk-toggleable__label {background-color: #d4ebff;}#sk-container-id-1 div.sk-serial::before {content: \"\";position: absolute;border-left: 1px solid gray;box-sizing: border-box;top: 0;bottom: 0;left: 50%;z-index: 0;}#sk-container-id-1 div.sk-serial {display: flex;flex-direction: column;align-items: center;background-color: white;padding-right: 0.2em;padding-left: 0.2em;position: relative;}#sk-container-id-1 div.sk-item {position: relative;z-index: 1;}#sk-container-id-1 div.sk-parallel {display: flex;align-items: stretch;justify-content: center;background-color: white;position: relative;}#sk-container-id-1 div.sk-item::before, #sk-container-id-1 div.sk-parallel-item::before {content: \"\";position: absolute;border-left: 1px solid gray;box-sizing: border-box;top: 0;bottom: 0;left: 50%;z-index: -1;}#sk-container-id-1 div.sk-parallel-item {display: flex;flex-direction: column;z-index: 1;position: relative;background-color: white;}#sk-container-id-1 div.sk-parallel-item:first-child::after {align-self: flex-end;width: 50%;}#sk-container-id-1 div.sk-parallel-item:last-child::after {align-self: flex-start;width: 50%;}#sk-container-id-1 div.sk-parallel-item:only-child::after {width: 0;}#sk-container-id-1 div.sk-dashed-wrapped {border: 1px dashed gray;margin: 0 0.4em 0.5em 0.4em;box-sizing: border-box;padding-bottom: 0.4em;background-color: white;}#sk-container-id-1 div.sk-label label {font-family: monospace;font-weight: bold;display: inline-block;line-height: 1.2em;}#sk-container-id-1 div.sk-label-container {text-align: center;}#sk-container-id-1 div.sk-container {/* jupyter's `normalize.less` sets `[hidden] { display: none; }` but bootstrap.min.css set `[hidden] { display: none !important; }` so we also need the `!important` here to be able to override the default hidden behavior on the sphinx rendered scikit-learn.org. See: https://github.com/scikit-learn/scikit-learn/issues/21755 */display: inline-block !important;position: relative;}#sk-container-id-1 div.sk-text-repr-fallback {display: none;}</style><div id=\"sk-container-id-1\" class=\"sk-top-container\"><div class=\"sk-text-repr-fallback\"><pre>GradientBoostingClassifier(random_state=42)</pre><b>In a Jupyter environment, please rerun this cell to show the HTML representation or trust the notebook. <br />On GitHub, the HTML representation is unable to render, please try loading this page with nbviewer.org.</b></div><div class=\"sk-container\" hidden><div class=\"sk-item\"><div class=\"sk-estimator sk-toggleable\"><input class=\"sk-toggleable__control sk-hidden--visually\" id=\"sk-estimator-id-1\" type=\"checkbox\" checked><label for=\"sk-estimator-id-1\" class=\"sk-toggleable__label sk-toggleable__label-arrow\">GradientBoostingClassifier</label><div class=\"sk-toggleable__content\"><pre>GradientBoostingClassifier(random_state=42)</pre></div></div></div></div></div>"
      ],
      "text/plain": [
       "GradientBoostingClassifier(random_state=42)"
      ]
     },
     "execution_count": 16,
     "metadata": {},
     "output_type": "execute_result"
    }
   ],
   "source": [
    "from sklearn.naive_bayes import GaussianNB\n",
    "from sklearn.ensemble import RandomForestClassifier\n",
    "from sklearn.ensemble import GradientBoostingClassifier\n",
    "\n",
    "dict_weights = {\"1\":0.5, \"2\": 1, \"X\": 1}\n",
    "\n",
    "# Build the classifiers\n",
    "clf_NB = GaussianNB()\n",
    "clf_RF = RandomForestClassifier(class_weight = dict_weights, n_estimators = 100, max_depth = None)\n",
    "clf_GB = GradientBoostingClassifier(n_estimators = 100, max_depth = 3, random_state = 42)\n",
    "\n",
    "# Train the classifiers\n",
    "clf_NB.fit(X_process_train, y_train_str)\n",
    "clf_RF.fit(X_process_train, y_train_str)\n",
    "clf_GB.fit(X_process_train, y_train_str)"
   ]
  },
  {
   "cell_type": "code",
   "execution_count": 17,
   "id": "991e7789",
   "metadata": {},
   "outputs": [],
   "source": [
    "y_pred_NB = clf_NB.predict(X_process_test)\n",
    "y_pred_RF = clf_RF.predict(X_process_test)\n",
    "y_pred_GB = clf_GB.predict(X_process_test)"
   ]
  },
  {
   "cell_type": "markdown",
   "id": "df5da119",
   "metadata": {},
   "source": [
    "#### In order to evaluate the quality of the model, four metrics have been used \n",
    "- Accuracy: represents the number of succesful predictions out of the total.\n",
    "- Precision: true positive rate compared to predicted positives.\n",
    "- Recall: Represents the true positives among the total of positives (true and false).\n",
    "- F1 - Score: It combines precision and recall in a single parameter.\n",
    "\n",
    "All this parameters can be obtained directly with the library sklearn.metrics. The option weighted is used because the clases are unbalenced, the parameters are calculated for each class and then the weighted mean is calculated. "
   ]
  },
  {
   "cell_type": "code",
   "execution_count": 18,
   "id": "a2612bd5",
   "metadata": {},
   "outputs": [],
   "source": [
    "# Confusion Matrix Functions\n",
    "from sklearn.metrics import ConfusionMatrixDisplay\n",
    "from sklearn.metrics import confusion_matrix\n",
    "\n",
    "# Quality metrics of the model\n",
    "from sklearn.metrics import accuracy_score\n",
    "from sklearn.metrics import precision_score\n",
    "from sklearn.metrics import recall_score, f1_score"
   ]
  },
  {
   "cell_type": "markdown",
   "id": "423603d6",
   "metadata": {},
   "source": [
    "### Naïves Bayes Classifier Evaluation"
   ]
  },
  {
   "cell_type": "code",
   "execution_count": 19,
   "id": "83596687",
   "metadata": {},
   "outputs": [
    {
     "data": {
      "image/png": "[encoded data removed]",
      "text/plain": [
       "<Figure size 640x480 with 2 Axes>"
      ]
     },
     "metadata": {},
     "output_type": "display_data"
    }
   ],
   "source": [
    "cm = confusion_matrix(y_true = y_test_str, y_pred = y_pred_NB, labels = ['1','2','X'])\n",
    "cm_display = ConfusionMatrixDisplay(cm, display_labels=('1','2','X')).plot()"
   ]
  },
  {
   "cell_type": "code",
   "execution_count": 20,
   "id": "7d3bda05",
   "metadata": {},
   "outputs": [
    {
     "name": "stdout",
     "output_type": "stream",
     "text": [
      "Accuracy: 0.498\n",
      "Precision: 0.444\n",
      "Recall: 0.498\n",
      "F1-Score: 0.453\n"
     ]
    }
   ],
   "source": [
    "print('Accuracy: %.3f' % accuracy_score(y_true = y_test_str, y_pred = y_pred_NB))\n",
    "print('Precision: %.3f' % precision_score(y_true = y_test_str, y_pred = y_pred_NB, average = 'weighted'))\n",
    "print('Recall: %.3f' % recall_score(y_true = y_test_str, y_pred = y_pred_NB, average = 'weighted'))\n",
    "print('F1-Score: %.3f' % f1_score(y_true = y_test_str, y_pred = y_pred_NB, average = 'weighted'))"
   ]
  },
  {
   "cell_type": "markdown",
   "id": "e37226ba",
   "metadata": {},
   "source": [
    "### Random Forest Classifier Evaluation"
   ]
  },
  {
   "cell_type": "code",
   "execution_count": 21,
   "id": "89a78b60",
   "metadata": {},
   "outputs": [
    {
     "data": {
      "image/png": "[encoded data removed]",
      "text/plain": [
       "<Figure size 640x480 with 2 Axes>"
      ]
     },
     "metadata": {},
     "output_type": "display_data"
    }
   ],
   "source": [
    "cm = confusion_matrix(y_true = y_test_str, y_pred = y_pred_RF, labels = ['1','2','X'])\n",
    "cm_display = ConfusionMatrixDisplay(cm, display_labels=('1','2','X')).plot()"
   ]
  },
  {
   "cell_type": "code",
   "execution_count": 22,
   "id": "608b8284",
   "metadata": {},
   "outputs": [
    {
     "name": "stdout",
     "output_type": "stream",
     "text": [
      "Accuracy: 0.493\n",
      "Precision: 0.427\n",
      "Recall: 0.493\n",
      "F1-Score: 0.433\n"
     ]
    }
   ],
   "source": [
    "print('Accuracy: %.3f' % accuracy_score(y_true = y_test_str, y_pred = y_pred_RF))\n",
    "print('Precision: %.3f' % precision_score(y_true = y_test_str, y_pred = y_pred_RF, average = 'weighted'))\n",
    "print('Recall: %.3f' % recall_score(y_true = y_test_str, y_pred = y_pred_RF, average = 'weighted'))\n",
    "print('F1-Score: %.3f' % f1_score(y_true = y_test_str, y_pred = y_pred_RF, average = 'weighted'))"
   ]
  },
  {
   "cell_type": "markdown",
   "id": "83c29a3c",
   "metadata": {},
   "source": [
    "### Gradient Descend Classifier Evaluation"
   ]
  },
  {
   "cell_type": "code",
   "execution_count": 23,
   "id": "397121ad",
   "metadata": {},
   "outputs": [
    {
     "data": {
      "image/png": "[encoded data removed]",
      "text/plain": [
       "<Figure size 640x480 with 2 Axes>"
      ]
     },
     "metadata": {},
     "output_type": "display_data"
    }
   ],
   "source": [
    "cm = confusion_matrix(y_true = y_test_str, y_pred = y_pred_GB, labels = ['1','2','X'])\n",
    "cm_display = ConfusionMatrixDisplay(cm, display_labels=('1','2','X')).plot()"
   ]
  },
  {
   "cell_type": "code",
   "execution_count": 24,
   "id": "2ad7d8dd",
   "metadata": {},
   "outputs": [
    {
     "name": "stdout",
     "output_type": "stream",
     "text": [
      "Accuracy: 0.536\n",
      "Precision: 0.510\n",
      "Recall: 0.536\n",
      "F1-Score: 0.403\n"
     ]
    }
   ],
   "source": [
    "print('Accuracy: %.3f' % accuracy_score(y_true = y_test_str, y_pred = y_pred_GB))\n",
    "print('Precision: %.3f' % precision_score(y_true = y_test_str, y_pred = y_pred_GB, average = 'weighted'))\n",
    "print('Recall: %.3f' % recall_score(y_true = y_test_str, y_pred = y_pred_GB, average = 'weighted'))\n",
    "print('F1-Score: %.3f' % f1_score(y_true = y_test_str, y_pred = y_pred_GB, average = 'weighted'))"
   ]
  },
  {
   "cell_type": "markdown",
   "id": "80fde089",
   "metadata": {},
   "source": [
    "As we can observe, Gradient Boosting Classifier provide the best metrics except for F1-Score, that may be the most interesting one. Both Gradient Boosting Classifier and RandomForestClassifier predict too much results on class \"1\", so they get great results in Accuracy, Precision and Recall, but no in F1-Score. \n",
    "\n",
    "Our model would take the Naïve Bayes Classifier, because it has the highest F1-Score and it does not predict as much class \"1\" as the others"
   ]
  }
 ],
 "metadata": {
  "kernelspec": {
   "display_name": "Python 3 (ipykernel)",
   "language": "python",
   "name": "python3"
  },
  "language_info": {
   "codemirror_mode": {
    "name": "ipython",
    "version": 3
   },
   "file_extension": ".py",
   "mimetype": "text/x-python",
   "name": "python",
   "nbconvert_exporter": "python",
   "pygments_lexer": "ipython3",
   "version": "3.10.12"
  }
 },
 "nbformat": 4,
 "nbformat_minor": 5
}
